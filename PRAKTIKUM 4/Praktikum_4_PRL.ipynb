{
  "nbformat": 4,
  "nbformat_minor": 0,
  "metadata": {
    "colab": {
      "provenance": []
    },
    "kernelspec": {
      "name": "python3",
      "display_name": "Python 3"
    },
    "language_info": {
      "name": "python"
    }
  },
  "cells": [
    {
      "cell_type": "code",
      "execution_count": null,
      "metadata": {
        "id": "I3od59dG4-zh"
      },
      "outputs": [],
      "source": [
        "import numpy as np"
      ]
    },
    {
      "cell_type": "markdown",
      "source": [
        "**A Very simple class MyLinearRegression**\n"
      ],
      "metadata": {
        "id": "dnsPfyMK5uLm"
      }
    },
    {
      "cell_type": "code",
      "source": [
        "class MyLinearRegression:\n",
        "\n",
        "  def __init__(self, fit_intercept=True):\n",
        "      self.coef_ = None\n",
        "      self.intercept_ = None\n",
        "      self.fit_intercept = fit_intercept"
      ],
      "metadata": {
        "id": "4R2a_W9D52ch"
      },
      "execution_count": null,
      "outputs": []
    },
    {
      "cell_type": "markdown",
      "source": [
        "Creat an instance and check attributes"
      ],
      "metadata": {
        "id": "t--bh97n6LA8"
      }
    },
    {
      "cell_type": "code",
      "source": [
        "mlr = MyLinearRegression()"
      ],
      "metadata": {
        "id": "-jCQE2YC6N45"
      },
      "execution_count": null,
      "outputs": []
    },
    {
      "cell_type": "code",
      "source": [
        "mlr.fit_intercept"
      ],
      "metadata": {
        "colab": {
          "base_uri": "https://localhost:8080/"
        },
        "id": "UyrsPu4K7CS1",
        "outputId": "e6db8180-430d-4188-dd52-6643d8623402"
      },
      "execution_count": null,
      "outputs": [
        {
          "output_type": "execute_result",
          "data": {
            "text/plain": [
              "True"
            ]
          },
          "metadata": {},
          "execution_count": 30
        }
      ]
    },
    {
      "cell_type": "code",
      "source": [
        "mlr.coef_==None"
      ],
      "metadata": {
        "colab": {
          "base_uri": "https://localhost:8080/"
        },
        "id": "8UBBJnyi-qeq",
        "outputId": "423bb12b-7641-4ca6-cd1f-968b6f896e37"
      },
      "execution_count": null,
      "outputs": [
        {
          "output_type": "execute_result",
          "data": {
            "text/plain": [
              "True"
            ]
          },
          "metadata": {},
          "execution_count": 31
        }
      ]
    },
    {
      "cell_type": "code",
      "source": [
        "mlr.intercept_== None"
      ],
      "metadata": {
        "colab": {
          "base_uri": "https://localhost:8080/"
        },
        "id": "Vvf1_I2_-uQ4",
        "outputId": "7d3b8561-7d5e-42ee-d24c-7b1c503add70"
      },
      "execution_count": null,
      "outputs": [
        {
          "output_type": "execute_result",
          "data": {
            "text/plain": [
              "True"
            ]
          },
          "metadata": {},
          "execution_count": 32
        }
      ]
    },
    {
      "cell_type": "code",
      "source": [
        "print(mlr)"
      ],
      "metadata": {
        "colab": {
          "base_uri": "https://localhost:8080/"
        },
        "id": "O3QgwQHK-xyY",
        "outputId": "8f815d52-7b2b-4c0c-f93c-be1a2eb9bc3f"
      },
      "execution_count": null,
      "outputs": [
        {
          "output_type": "stream",
          "name": "stdout",
          "text": [
            "<__main__.MyLinearRegression object at 0x7c680fe734c0>\n"
          ]
        }
      ]
    },
    {
      "cell_type": "markdown",
      "source": [
        "**Built Description method**"
      ],
      "metadata": {
        "id": "K03owi2Q-2se"
      }
    },
    {
      "cell_type": "code",
      "source": [
        "class MyLinearRegression:\n",
        "\n",
        "  def __init__(self, fit_intercept=True):\n",
        "      self.coef_ = None\n",
        "      self.intercept_ = None\n",
        "      self.fit_intercept = fit_intercept\n",
        "\n",
        "  def __repr__(self):\n",
        "      return \"I am a Linear Regression model!\""
      ],
      "metadata": {
        "id": "BP9CWbM1-6Te"
      },
      "execution_count": null,
      "outputs": []
    },
    {
      "cell_type": "code",
      "source": [
        "mlr = MyLinearRegression()"
      ],
      "metadata": {
        "id": "7zmLwxj6_WK5"
      },
      "execution_count": null,
      "outputs": []
    },
    {
      "cell_type": "code",
      "source": [
        "print(mlr)"
      ],
      "metadata": {
        "colab": {
          "base_uri": "https://localhost:8080/"
        },
        "id": "CGFirvjS_i4g",
        "outputId": "c56ffd1c-d177-4fb5-bc0b-3fecc05fd564"
      },
      "execution_count": null,
      "outputs": [
        {
          "output_type": "stream",
          "name": "stdout",
          "text": [
            "I am a Linear Regression model!\n"
          ]
        }
      ]
    },
    {
      "cell_type": "code",
      "source": [
        "class MyLinearRegression:\n",
        "\n",
        "  def __init__(self, fit_intercept=True):\n",
        "      self.coef_ = None\n",
        "      self.intercept_ = None\n",
        "      self.fit_intercept = fit_intercept\n",
        "\n",
        "  def __repr__(self):\n",
        "      return \"I am a Linear Regression model!\"\n",
        "\n",
        "  def fit(self, X, y):\n",
        "      \"\"\"\n",
        "      Fit model coefficients.\n",
        "\n",
        "      Arguments:\n",
        "      X: 1D ora 2D numpy array\n",
        "      y: 1D numpy array\n",
        "      \"\"\"\n",
        "\n",
        "      # check if X is 1D or 2D array\n",
        "      if len(X.shape) == 1:\n",
        "          X = X.reshape(-1,1)\n",
        "\n",
        "      # add bias if fit_intercept is True\n",
        "      if self.fit_intercept:\n",
        "        X_biased = np.c_[np.ones(X.shape[0]), X]\n",
        "      else:\n",
        "        X_biased = X\n",
        "\n",
        "      # closed form solution\n",
        "      xTx = np.dot(X_biased.T, X_biased)\n",
        "      inverse_xTx = np.linalg.inv(xTx)\n",
        "      xTy = np.dot(X_biased.T, y)\n",
        "      coef = np.dot(inverse_xTx, xTy)\n",
        "\n",
        "      # set attributes\n",
        "      if self.fit_intercept:\n",
        "          self.intercept_ = coef[0]\n",
        "          self.coef_ = coef[1:]\n",
        "      else:\n",
        "        self.intercept_ = 0\n",
        "        self.coef_ = coef"
      ],
      "metadata": {
        "id": "1T7JAawA_uuI"
      },
      "execution_count": null,
      "outputs": []
    },
    {
      "cell_type": "code",
      "source": [
        "X = 10*np.random.random(size=(20,2))\n",
        "y = 3.5*X.T[0]-1.2*X.T[1]+2*np.random.randn(20)"
      ],
      "metadata": {
        "id": "REJSRG5QAChS"
      },
      "execution_count": null,
      "outputs": []
    },
    {
      "cell_type": "code",
      "source": [
        "import matplotlib.pyplot as plt"
      ],
      "metadata": {
        "id": "jBufrCxtDNoR"
      },
      "execution_count": null,
      "outputs": []
    },
    {
      "cell_type": "code",
      "source": [
        "fig, ax = plt.subplots(1,2,figsize=(10,3))\n",
        "\n",
        "ax[0].scatter(X.T[0],y)\n",
        "ax[0].set_title(\"Output vs. first feature\")\n",
        "ax[0].grid(True)\n",
        "ax[1].scatter(X.T[1],y)\n",
        "ax[1].set_title(\"Output vs. second feature\")\n",
        "ax[1].grid(True)\n",
        "fig.tight_layout()\n",
        "plt.show()"
      ],
      "metadata": {
        "colab": {
          "base_uri": "https://localhost:8080/",
          "height": 213
        },
        "id": "Nw5L64fyDS14",
        "outputId": "c05cba95-93d4-4c63-ce29-fa2e1e445fa1"
      },
      "execution_count": null,
      "outputs": [
        {
          "output_type": "display_data",
          "data": {
            "text/plain": [
              "<Figure size 1000x300 with 2 Axes>"
            ],
            "image/png": "[encoded data removed]"
          },
          "metadata": {}
        }
      ]
    },
    {
      "cell_type": "code",
      "source": [
        "mlr = MyLinearRegression()"
      ],
      "metadata": {
        "id": "hkqRyg_AEM6q"
      },
      "execution_count": null,
      "outputs": []
    },
    {
      "cell_type": "code",
      "source": [
        "print(\"We Have fitted the data yet. There is no regression coeffcients\")\n",
        "print(\"Regression coefficients:\", mlr.coef_)"
      ],
      "metadata": {
        "colab": {
          "base_uri": "https://localhost:8080/"
        },
        "id": "haisR7uREUUc",
        "outputId": "fb5ce4d7-6a41-4279-d0c2-71de62529ade"
      },
      "execution_count": null,
      "outputs": [
        {
          "output_type": "stream",
          "name": "stdout",
          "text": [
            "We Have fitted the data yet. There is no regression coeffcients\n",
            "Regression coefficients: None\n"
          ]
        }
      ]
    },
    {
      "cell_type": "code",
      "source": [
        "mlr.fit(X,y)"
      ],
      "metadata": {
        "id": "DNW-7lHtFlrW"
      },
      "execution_count": null,
      "outputs": []
    },
    {
      "cell_type": "code",
      "source": [
        "print(\"We Have fitted the data yet. There is no regression coeffcients\")\n",
        "print(\"Regression coefficients:\", mlr.coef_)"
      ],
      "metadata": {
        "colab": {
          "base_uri": "https://localhost:8080/"
        },
        "id": "TWBFV3IqGaz_",
        "outputId": "9712fd80-1232-44fa-f406-1240abd3d1ac"
      },
      "execution_count": null,
      "outputs": [
        {
          "output_type": "stream",
          "name": "stdout",
          "text": [
            "We Have fitted the data yet. There is no regression coeffcients\n",
            "Regression coefficients: [ 3.47355667 -1.21064732]\n"
          ]
        }
      ]
    },
    {
      "cell_type": "code",
      "source": [
        "print(\"The intercept term is given by:\", mlr.intercept_)"
      ],
      "metadata": {
        "colab": {
          "base_uri": "https://localhost:8080/"
        },
        "id": "OTvwlwRIEecI",
        "outputId": "7cfe4ec6-52bb-4d6d-b0d4-5c3ce5c22d8f"
      },
      "execution_count": null,
      "outputs": [
        {
          "output_type": "stream",
          "name": "stdout",
          "text": [
            "The intercept term is given by: 0.679605956570802\n"
          ]
        }
      ]
    },
    {
      "cell_type": "code",
      "source": [
        "coef_ = mlr.coef_\n",
        "y_pred = np.dot(X,coef_)+mlr.intercept_"
      ],
      "metadata": {
        "id": "VeLamYJPEz58"
      },
      "execution_count": null,
      "outputs": []
    },
    {
      "cell_type": "code",
      "source": [
        "plt.scatter(y,y_pred,s=100,alpha=0.75,color='red',edgecolor='k')\n",
        "plt.plot(y,y,c='k',linestyle='dotted')\n",
        "plt.grid(True)\n",
        "plt.show()"
      ],
      "metadata": {
        "colab": {
          "base_uri": "https://localhost:8080/",
          "height": 434
        },
        "id": "J_byI73WHHXy",
        "outputId": "a001d9ec-36bb-41c5-d3d8-09bb0863e28a"
      },
      "execution_count": null,
      "outputs": [
        {
          "output_type": "display_data",
          "data": {
            "text/plain": [
              "<Figure size 640x480 with 1 Axes>"
            ],
            "image/png": "[encoded data removed]"
          },
          "metadata": {}
        }
      ]
    }
  ]
}